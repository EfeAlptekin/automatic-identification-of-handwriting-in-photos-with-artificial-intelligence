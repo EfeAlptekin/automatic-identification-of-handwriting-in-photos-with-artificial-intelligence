{
 "cells": [
  {
   "cell_type": "code",
   "execution_count": null,
   "metadata": {},
   "outputs": [],
   "source": []
  }
 ],
 "metadata": {
  "kernelspec": {
   "display_name": "Python 3.9.7 ('base')",
   "language": "python",
   "name": "python3"
  },
  "language_info": {
   "name": "python",
   "version": "3.9.7"
  },
  "orig_nbformat": 4,
  "vscode": {
   "interpreter": {
    "hash": "57468ee44aa95dd4e25b20d5089bdc40d0474ae5901f7acf4c61317f32db0a15"
   }
  }
 },
 "nbformat": 4,
 "nbformat_minor": 2
}
